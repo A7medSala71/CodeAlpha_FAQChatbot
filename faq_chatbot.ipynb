{
  "nbformat": 4,
  "nbformat_minor": 0,
  "metadata": {
    "colab": {
      "provenance": []
    },
    "kernelspec": {
      "name": "python3",
      "display_name": "Python 3"
    },
    "language_info": {
      "name": "python"
    }
  },
  "cells": [
    {
      "cell_type": "code",
      "execution_count": 1,
      "metadata": {
        "colab": {
          "base_uri": "https://localhost:8080/"
        },
        "id": "znkMHhGuD8XK",
        "outputId": "f01e67de-2ffd-4ad4-e65f-fd027977d33a"
      },
      "outputs": [
        {
          "output_type": "stream",
          "name": "stdout",
          "text": [
            "Collecting en-core-web-sm==3.8.0\n",
            "  Downloading https://github.com/explosion/spacy-models/releases/download/en_core_web_sm-3.8.0/en_core_web_sm-3.8.0-py3-none-any.whl (12.8 MB)\n",
            "\u001b[2K     \u001b[90m━━━━━━━━━━━━━━━━━━━━━━━━━━━━━━━━━━━━━━━━\u001b[0m \u001b[32m12.8/12.8 MB\u001b[0m \u001b[31m77.1 MB/s\u001b[0m eta \u001b[36m0:00:00\u001b[0m\n",
            "\u001b[?25h\u001b[38;5;2m✔ Download and installation successful\u001b[0m\n",
            "You can now load the package via spacy.load('en_core_web_sm')\n",
            "\u001b[38;5;3m⚠ Restart to reload dependencies\u001b[0m\n",
            "If you are in a Jupyter or Colab notebook, you may need to restart Python in\n",
            "order to load all the package's dependencies. You can do this by selecting the\n",
            "'Restart kernel' or 'Restart runtime' option.\n"
          ]
        }
      ],
      "source": [
        "!pip install -q spacy scikit-learn\n",
        "!python -m spacy download en_core_web_sm"
      ]
    },
    {
      "cell_type": "code",
      "source": [
        "import spacy\n",
        "from sklearn.feature_extraction.text import TfidfVectorizer\n",
        "from sklearn.metrics.pairwise import cosine_similarity\n",
        "\n",
        "# Load spaCy model\n",
        "nlp = spacy.load(\"en_core_web_sm\")\n",
        "\n",
        "# Sample FAQs\n",
        "faqs = [\n",
        "    {\"question\": \"What is your return policy?\", \"answer\": \"You can return any product within 30 days of purchase.\"},\n",
        "    {\"question\": \"How do I track my order?\", \"answer\": \"Go to your orders page and click on 'Track Order'.\"},\n",
        "    {\"question\": \"Do you offer international shipping?\", \"answer\": \"Yes, we ship to over 50 countries worldwide.\"},\n",
        "    {\"question\": \"How can I contact customer support?\", \"answer\": \"You can email us at support@example.com.\"},\n",
        "    {\"question\": \"What payment methods do you accept?\", \"answer\": \"We accept Visa, MasterCard, PayPal, and Apple Pay.\"}\n",
        "]\n",
        "\n",
        "# Preprocess function\n",
        "def preprocess(text):\n",
        "    doc = nlp(text.lower())\n",
        "    return \" \".join([token.lemma_ for token in doc if not token.is_stop and not token.is_punct])\n",
        "\n",
        "# Preprocess questions and build TF-IDF matrix\n",
        "questions = [preprocess(faq[\"question\"]) for faq in faqs]\n",
        "vectorizer = TfidfVectorizer()\n",
        "faq_matrix = vectorizer.fit_transform(questions)\n"
      ],
      "metadata": {
        "id": "09cKVShCD-ue"
      },
      "execution_count": 2,
      "outputs": []
    },
    {
      "cell_type": "code",
      "source": [
        "def get_answer(user_input):\n",
        "    user_processed = preprocess(user_input)\n",
        "    user_vec = vectorizer.transform([user_processed])\n",
        "    similarities = cosine_similarity(user_vec, faq_matrix)\n",
        "    best_match = similarities.argmax()\n",
        "    confidence = similarities[0][best_match]\n",
        "\n",
        "    if confidence > 0.3:\n",
        "        return faqs[best_match][\"answer\"]\n",
        "    else:\n",
        "        return \"Sorry, I couldn't understand your question. Please try rephrasing it.\"\n"
      ],
      "metadata": {
        "id": "eHxxXDwhEBp3"
      },
      "execution_count": 3,
      "outputs": []
    },
    {
      "cell_type": "code",
      "source": [
        "def chatbot():\n",
        "    print(\"🤖 FAQ Chatbot (type 'exit' to quit)\")\n",
        "    while True:\n",
        "        user_input = input(\"You: \")\n",
        "        if user_input.lower() == \"exit\":\n",
        "            print(\"Bot: Goodbye!\")\n",
        "            break\n",
        "        response = get_answer(user_input)\n",
        "        print(\"Bot:\", response)\n",
        "\n",
        "chatbot()\n"
      ],
      "metadata": {
        "colab": {
          "base_uri": "https://localhost:8080/"
        },
        "id": "pqb9K46AED0V",
        "outputId": "764ea638-c34f-4b34-9dc6-ec3a9e9b7d64"
      },
      "execution_count": 4,
      "outputs": [
        {
          "output_type": "stream",
          "name": "stdout",
          "text": [
            "🤖 FAQ Chatbot (type 'exit' to quit)\n",
            "You: what about Orders\n",
            "Bot: Go to your orders page and click on 'Track Order'.\n",
            "You: how can i know about my orders\n",
            "Bot: Go to your orders page and click on 'Track Order'.\n",
            "You: exit\n",
            "Bot: Goodbye!\n"
          ]
        }
      ]
    }
  ]
}